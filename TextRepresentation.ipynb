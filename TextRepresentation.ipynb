{
 "cells": [
  {
   "cell_type": "markdown",
   "id": "3de1624d-b400-4a63-87c9-1c89d4523780",
   "metadata": {},
   "source": [
    "# Text Representation"
   ]
  },
  {
   "cell_type": "markdown",
   "id": "f5ce6fef-480f-4988-81d4-eeaad9220038",
   "metadata": {},
   "source": [
    "## Bag of Words"
   ]
  },
  {
   "cell_type": "code",
   "execution_count": 1,
   "id": "c7fdd268-9054-432d-b6dd-76124a71abe4",
   "metadata": {},
   "outputs": [],
   "source": [
    "# Import of necessary libraries\n",
    "\n",
    "import pandas as pd\n",
    "from sklearn.feature_extraction.text import CountVectorizer"
   ]
  },
  {
   "cell_type": "code",
   "execution_count": 2,
   "id": "b4ed8bc7-f6e3-4a6a-95d1-fa9c2eaedfc3",
   "metadata": {},
   "outputs": [
    {
     "data": {
      "text/html": [
       "<div>\n",
       "<style scoped>\n",
       "    .dataframe tbody tr th:only-of-type {\n",
       "        vertical-align: middle;\n",
       "    }\n",
       "\n",
       "    .dataframe tbody tr th {\n",
       "        vertical-align: top;\n",
       "    }\n",
       "\n",
       "    .dataframe thead th {\n",
       "        text-align: right;\n",
       "    }\n",
       "</style>\n",
       "<table border=\"1\" class=\"dataframe\">\n",
       "  <thead>\n",
       "    <tr style=\"text-align: right;\">\n",
       "      <th></th>\n",
       "      <th>ReceiverID</th>\n",
       "      <th>ActionType</th>\n",
       "      <th>NegoOutcome</th>\n",
       "      <th>Content</th>\n",
       "    </tr>\n",
       "    <tr>\n",
       "      <th>SenderID</th>\n",
       "      <th></th>\n",
       "      <th></th>\n",
       "      <th></th>\n",
       "      <th></th>\n",
       "    </tr>\n",
       "  </thead>\n",
       "  <tbody>\n",
       "    <tr>\n",
       "      <th>31</th>\n",
       "      <td>32</td>\n",
       "      <td>Offer</td>\n",
       "      <td>FinalAccept</td>\n",
       "      <td>Hey Chris, Great that we are working together ...</td>\n",
       "    </tr>\n",
       "    <tr>\n",
       "      <th>32</th>\n",
       "      <td>31</td>\n",
       "      <td>Counteroffer</td>\n",
       "      <td>FinalAccept</td>\n",
       "      <td>Hey Alex, The pleasure is all mine. For starte...</td>\n",
       "    </tr>\n",
       "    <tr>\n",
       "      <th>31</th>\n",
       "      <td>32</td>\n",
       "      <td>Counteroffer</td>\n",
       "      <td>FinalAccept</td>\n",
       "      <td>Hey Chris,  Thank you for your response.  I am...</td>\n",
       "    </tr>\n",
       "    <tr>\n",
       "      <th>32</th>\n",
       "      <td>31</td>\n",
       "      <td>Counteroffer</td>\n",
       "      <td>FinalAccept</td>\n",
       "      <td>Hello Alex, I think we have a solid compromis ...</td>\n",
       "    </tr>\n",
       "    <tr>\n",
       "      <th>31</th>\n",
       "      <td>32</td>\n",
       "      <td>Question</td>\n",
       "      <td>FinalAccept</td>\n",
       "      <td>Dear Chris, I am glad to hear that you are wil...</td>\n",
       "    </tr>\n",
       "    <tr>\n",
       "      <th>...</th>\n",
       "      <td>...</td>\n",
       "      <td>...</td>\n",
       "      <td>...</td>\n",
       "      <td>...</td>\n",
       "    </tr>\n",
       "    <tr>\n",
       "      <th>851</th>\n",
       "      <td>856</td>\n",
       "      <td>Counteroffer</td>\n",
       "      <td>FinalReject</td>\n",
       "      <td>Dear Chis Meyer,\\n \\nthank you for your latest...</td>\n",
       "    </tr>\n",
       "    <tr>\n",
       "      <th>856</th>\n",
       "      <td>851</td>\n",
       "      <td>Counteroffer</td>\n",
       "      <td>FinalReject</td>\n",
       "      <td>Dear Alex Kramer,\\nthank you very much for you...</td>\n",
       "    </tr>\n",
       "    <tr>\n",
       "      <th>851</th>\n",
       "      <td>856</td>\n",
       "      <td>Counteroffer</td>\n",
       "      <td>FinalReject</td>\n",
       "      <td>Dear Chris Meyer,\\nthank you for your fast ans...</td>\n",
       "    </tr>\n",
       "    <tr>\n",
       "      <th>856</th>\n",
       "      <td>851</td>\n",
       "      <td>Counteroffer</td>\n",
       "      <td>FinalReject</td>\n",
       "      <td>Dear Alex Kramer,\\nI am still very interested ...</td>\n",
       "    </tr>\n",
       "    <tr>\n",
       "      <th>851</th>\n",
       "      <td>856</td>\n",
       "      <td>FinalReject</td>\n",
       "      <td>FinalReject</td>\n",
       "      <td>Dear Chris Meyer,\\n \\nI'm so sorry but I can n...</td>\n",
       "    </tr>\n",
       "  </tbody>\n",
       "</table>\n",
       "<p>2254 rows × 4 columns</p>\n",
       "</div>"
      ],
      "text/plain": [
       "          ReceiverID    ActionType  NegoOutcome  \\\n",
       "SenderID                                          \n",
       "31                32         Offer  FinalAccept   \n",
       "32                31  Counteroffer  FinalAccept   \n",
       "31                32  Counteroffer  FinalAccept   \n",
       "32                31  Counteroffer  FinalAccept   \n",
       "31                32      Question  FinalAccept   \n",
       "...              ...           ...          ...   \n",
       "851              856  Counteroffer  FinalReject   \n",
       "856              851  Counteroffer  FinalReject   \n",
       "851              856  Counteroffer  FinalReject   \n",
       "856              851  Counteroffer  FinalReject   \n",
       "851              856   FinalReject  FinalReject   \n",
       "\n",
       "                                                    Content  \n",
       "SenderID                                                     \n",
       "31        Hey Chris, Great that we are working together ...  \n",
       "32        Hey Alex, The pleasure is all mine. For starte...  \n",
       "31        Hey Chris,  Thank you for your response.  I am...  \n",
       "32        Hello Alex, I think we have a solid compromis ...  \n",
       "31        Dear Chris, I am glad to hear that you are wil...  \n",
       "...                                                     ...  \n",
       "851       Dear Chis Meyer,\\n \\nthank you for your latest...  \n",
       "856       Dear Alex Kramer,\\nthank you very much for you...  \n",
       "851       Dear Chris Meyer,\\nthank you for your fast ans...  \n",
       "856       Dear Alex Kramer,\\nI am still very interested ...  \n",
       "851       Dear Chris Meyer,\\n \\nI'm so sorry but I can n...  \n",
       "\n",
       "[2254 rows x 4 columns]"
      ]
     },
     "execution_count": 2,
     "metadata": {},
     "output_type": "execute_result"
    }
   ],
   "source": [
    "# Load the dataset\n",
    "\n",
    "df = pd.read_excel('Data_Group2.xlsx', index_col=0)\n",
    "df"
   ]
  },
  {
   "cell_type": "code",
   "execution_count": 3,
   "id": "914befc4-925c-4578-8ab9-2a50f566b71a",
   "metadata": {},
   "outputs": [
    {
     "name": "stdout",
     "output_type": "stream",
     "text": [
      "          ReceiverID    ActionType  NegoOutcome  \\\n",
      "SenderID                                          \n",
      "31                32         Offer  FinalAccept   \n",
      "32                31  Counteroffer  FinalAccept   \n",
      "31                32  Counteroffer  FinalAccept   \n",
      "32                31  Counteroffer  FinalAccept   \n",
      "31                32      Question  FinalAccept   \n",
      "\n",
      "                                                    Content  \n",
      "SenderID                                                     \n",
      "31        Hey Chris, Great that we are working together ...  \n",
      "32        Hey Alex, The pleasure is all mine. For starte...  \n",
      "31        Hey Chris,  Thank you for your response.  I am...  \n",
      "32        Hello Alex, I think we have a solid compromis ...  \n",
      "31        Dear Chris, I am glad to hear that you are wil...  \n"
     ]
    }
   ],
   "source": [
    "print(df.head())"
   ]
  },
  {
   "cell_type": "code",
   "execution_count": 4,
   "id": "f1882aaa-9a18-404f-9a30-3b1f582e510b",
   "metadata": {},
   "outputs": [],
   "source": [
    "text_data = df[\"Content\"].dropna().tolist()"
   ]
  },
  {
   "cell_type": "code",
   "execution_count": 5,
   "id": "248a37f7-05a6-41d9-94b0-35797128167b",
   "metadata": {},
   "outputs": [],
   "source": [
    "def preprocess_text(texts):\n",
    "    processed_texts = []\n",
    "    for text in texts:\n",
    "        text = text.lower()  # Kleinbuchstaben\n",
    "        text = ''.join([char for char in text if char.isalnum() or char.isspace()])\n",
    "        processed_texts.append(text)\n",
    "    return processed_texts"
   ]
  },
  {
   "cell_type": "code",
   "execution_count": 6,
   "id": "65e994fa-daac-4bbb-9a29-8fdf6d6be3e0",
   "metadata": {},
   "outputs": [],
   "source": [
    "processed_text_data = preprocess_text(text_data)"
   ]
  },
  {
   "cell_type": "code",
   "execution_count": 7,
   "id": "73369202-940e-494f-8a99-b4586f88157d",
   "metadata": {},
   "outputs": [
    {
     "data": {
      "text/plain": [
       "<2254x9132 sparse matrix of type '<class 'numpy.int64'>'\n",
       "\twith 269192 stored elements in Compressed Sparse Row format>"
      ]
     },
     "execution_count": 7,
     "metadata": {},
     "output_type": "execute_result"
    }
   ],
   "source": [
    "count_vectorizer = CountVectorizer()\n",
    "message_vector = count_vectorizer.fit_transform(df['Content'])\n",
    "message_vector"
   ]
  },
  {
   "cell_type": "code",
   "execution_count": 8,
   "id": "977765d4-bbae-4f5d-a9c5-5f23dab3b4fc",
   "metadata": {},
   "outputs": [
    {
     "name": "stdout",
     "output_type": "stream",
     "text": [
      "      00  000  02th  04  10  100  101  102  1040  106  ...  youthful  zahl  \\\n",
      "0      0    0     0   0   0    0    0    0     0    0  ...         0     0   \n",
      "1      0    0     0   0   0    0    0    0     0    0  ...         0     0   \n",
      "2      0    0     0   0   0    0    0    0     0    0  ...         0     0   \n",
      "3      0    0     0   0   0    0    0    0     0    0  ...         0     0   \n",
      "4      0    0     0   0   0    0    0    0     0    0  ...         0     0   \n",
      "...   ..  ...   ...  ..  ..  ...  ...  ...   ...  ...  ...       ...   ...   \n",
      "2249   0    0     0   0   0    0    0    0     0    0  ...         0     0   \n",
      "2250   0    0     0   0   0    0    0    0     0    0  ...         0     0   \n",
      "2251   0    0     0   0   0    0    0    0     0    0  ...         0     0   \n",
      "2252   0    0     0   0   0    0    0    0     0    0  ...         0     0   \n",
      "2253   0    0     0   0   0    0    0    0     0    0  ...         0     0   \n",
      "\n",
      "      zealand  zero  zone  zurich  zurick  zvr  zürich  ánd  \n",
      "0           0     0     0       0       0    0       0    0  \n",
      "1           0     0     0       0       0    0       0    0  \n",
      "2           0     0     0       0       0    0       0    0  \n",
      "3           0     0     0       0       0    0       0    0  \n",
      "4           0     0     0       0       0    0       0    0  \n",
      "...       ...   ...   ...     ...     ...  ...     ...  ...  \n",
      "2249        0     0     0       0       0    0       1    0  \n",
      "2250        0     0     0       0       0    0       0    0  \n",
      "2251        0     0     0       0       0    0       0    0  \n",
      "2252        0     0     0       0       0    0       0    0  \n",
      "2253        0     0     0       0       0    0       0    0  \n",
      "\n",
      "[2254 rows x 9132 columns]\n"
     ]
    }
   ],
   "source": [
    "message_array = message_vector.toarray()\n",
    "df_countvectorizer = pd.DataFrame(data=message_array, columns=count_vectorizer.get_feature_names_out())\n",
    "print(df_countvectorizer)"
   ]
  },
  {
   "cell_type": "code",
   "execution_count": 9,
   "id": "34e03dea-0ec3-49e0-afcd-155523042e0b",
   "metadata": {},
   "outputs": [
    {
     "data": {
      "text/plain": [
       "Index(['00', '000', '02th', '04', '10', '100', '101', '102', '1040', '106',\n",
       "       ...\n",
       "       'youthful', 'zahl', 'zealand', 'zero', 'zone', 'zurich', 'zurick',\n",
       "       'zvr', 'zürich', 'ánd'],\n",
       "      dtype='object', length=9132)"
      ]
     },
     "execution_count": 9,
     "metadata": {},
     "output_type": "execute_result"
    }
   ],
   "source": [
    "df_countvectorizer.columns"
   ]
  },
  {
   "cell_type": "markdown",
   "id": "692d1410-8dda-4d2d-be57-30ef57479d3e",
   "metadata": {},
   "source": [
    "## Term Frequency - Inverse Document Frequency (TF-IDF)"
   ]
  },
  {
   "cell_type": "code",
   "execution_count": 10,
   "id": "8356d7d7-6f5e-4ad6-91e6-0c6185fc7e5e",
   "metadata": {},
   "outputs": [],
   "source": [
    "count_vectorizer_ngrams = CountVectorizer(ngram_range=(1,2), min_df=0.01, max_df=0.7, max_features=100)\n",
    "message_vector_ngrams = count_vectorizer_ngrams.fit_transform(df['Content'])"
   ]
  },
  {
   "cell_type": "code",
   "execution_count": 11,
   "id": "15b3b5d9-c883-431e-9500-079f382dee4c",
   "metadata": {},
   "outputs": [
    {
     "name": "stdout",
     "output_type": "stream",
     "text": [
      "      00  000  02th  04  10  100  101  102  1040  106  ...  youthful  zahl  \\\n",
      "0      0    0     0   0   0    0    0    0     0    0  ...         0     0   \n",
      "1      0    0     0   0   0    0    0    0     0    0  ...         0     0   \n",
      "2      0    0     0   0   0    0    0    0     0    0  ...         0     0   \n",
      "3      0    0     0   0   0    0    0    0     0    0  ...         0     0   \n",
      "4      0    0     0   0   0    0    0    0     0    0  ...         0     0   \n",
      "...   ..  ...   ...  ..  ..  ...  ...  ...   ...  ...  ...       ...   ...   \n",
      "2249   0    0     0   0   0    0    0    0     0    0  ...         0     0   \n",
      "2250   0    0     0   0   0    0    0    0     0    0  ...         0     0   \n",
      "2251   0    0     0   0   0    0    0    0     0    0  ...         0     0   \n",
      "2252   0    0     0   0   0    0    0    0     0    0  ...         0     0   \n",
      "2253   0    0     0   0   0    0    0    0     0    0  ...         0     0   \n",
      "\n",
      "      zealand  zero  zone  zurich  zurick  zvr  zürich  ánd  \n",
      "0           0     0     0       0       0    0       0    0  \n",
      "1           0     0     0       0       0    0       0    0  \n",
      "2           0     0     0       0       0    0       0    0  \n",
      "3           0     0     0       0       0    0       0    0  \n",
      "4           0     0     0       0       0    0       0    0  \n",
      "...       ...   ...   ...     ...     ...  ...     ...  ...  \n",
      "2249        0     0     0       0       0    0       1    0  \n",
      "2250        0     0     0       0       0    0       0    0  \n",
      "2251        0     0     0       0       0    0       0    0  \n",
      "2252        0     0     0       0       0    0       0    0  \n",
      "2253        0     0     0       0       0    0       0    0  \n",
      "\n",
      "[2254 rows x 9132 columns]\n"
     ]
    }
   ],
   "source": [
    "message_ngrams_array = message_vector_ngrams.toarray()\n",
    "df_countvectorizer_ngrams = pd.DataFrame(data=message_ngrams_array, columns=count_vectorizer_ngrams.get_feature_names_out())\n",
    "print(df_countvectorizer)"
   ]
  },
  {
   "cell_type": "code",
   "execution_count": 12,
   "id": "e6b5d49e-78c7-4247-919d-16746917d89b",
   "metadata": {},
   "outputs": [],
   "source": [
    "from sklearn.feature_extraction.text import TfidfVectorizer"
   ]
  },
  {
   "cell_type": "code",
   "execution_count": 13,
   "id": "312a1a85-9a97-469d-a1a9-5ec873da380c",
   "metadata": {},
   "outputs": [],
   "source": [
    "tfidf_vectorizer = TfidfVectorizer()\n",
    "tfidf_vectorizer.fit(df['Content'])\n",
    "tfidf_message_vector = tfidf_vectorizer.transform(df['Content'])"
   ]
  },
  {
   "cell_type": "code",
   "execution_count": 14,
   "id": "199cfe67-32a1-4bc7-98dd-ebc514239b9f",
   "metadata": {},
   "outputs": [
    {
     "data": {
      "text/plain": [
       "(2254, 9132)"
      ]
     },
     "execution_count": 14,
     "metadata": {},
     "output_type": "execute_result"
    }
   ],
   "source": [
    "tfidf_message_vector.shape"
   ]
  },
  {
   "cell_type": "code",
   "execution_count": 15,
   "id": "35596c50-98d8-458c-a1cd-b091f650db77",
   "metadata": {},
   "outputs": [
    {
     "name": "stdout",
     "output_type": "stream",
     "text": [
      "       00  000  02th   04   10  100  101  102  1040  106  ...  youthful  zahl  \\\n",
      "0     0.0  0.0   0.0  0.0  0.0  0.0  0.0  0.0   0.0  0.0  ...       0.0   0.0   \n",
      "1     0.0  0.0   0.0  0.0  0.0  0.0  0.0  0.0   0.0  0.0  ...       0.0   0.0   \n",
      "2     0.0  0.0   0.0  0.0  0.0  0.0  0.0  0.0   0.0  0.0  ...       0.0   0.0   \n",
      "3     0.0  0.0   0.0  0.0  0.0  0.0  0.0  0.0   0.0  0.0  ...       0.0   0.0   \n",
      "4     0.0  0.0   0.0  0.0  0.0  0.0  0.0  0.0   0.0  0.0  ...       0.0   0.0   \n",
      "...   ...  ...   ...  ...  ...  ...  ...  ...   ...  ...  ...       ...   ...   \n",
      "2249  0.0  0.0   0.0  0.0  0.0  0.0  0.0  0.0   0.0  0.0  ...       0.0   0.0   \n",
      "2250  0.0  0.0   0.0  0.0  0.0  0.0  0.0  0.0   0.0  0.0  ...       0.0   0.0   \n",
      "2251  0.0  0.0   0.0  0.0  0.0  0.0  0.0  0.0   0.0  0.0  ...       0.0   0.0   \n",
      "2252  0.0  0.0   0.0  0.0  0.0  0.0  0.0  0.0   0.0  0.0  ...       0.0   0.0   \n",
      "2253  0.0  0.0   0.0  0.0  0.0  0.0  0.0  0.0   0.0  0.0  ...       0.0   0.0   \n",
      "\n",
      "      zealand  zero  zone  zurich  zurick  zvr    zürich  ánd  \n",
      "0         0.0   0.0   0.0     0.0     0.0  0.0  0.000000  0.0  \n",
      "1         0.0   0.0   0.0     0.0     0.0  0.0  0.000000  0.0  \n",
      "2         0.0   0.0   0.0     0.0     0.0  0.0  0.000000  0.0  \n",
      "3         0.0   0.0   0.0     0.0     0.0  0.0  0.000000  0.0  \n",
      "4         0.0   0.0   0.0     0.0     0.0  0.0  0.000000  0.0  \n",
      "...       ...   ...   ...     ...     ...  ...       ...  ...  \n",
      "2249      0.0   0.0   0.0     0.0     0.0  0.0  0.106504  0.0  \n",
      "2250      0.0   0.0   0.0     0.0     0.0  0.0  0.000000  0.0  \n",
      "2251      0.0   0.0   0.0     0.0     0.0  0.0  0.000000  0.0  \n",
      "2252      0.0   0.0   0.0     0.0     0.0  0.0  0.000000  0.0  \n",
      "2253      0.0   0.0   0.0     0.0     0.0  0.0  0.000000  0.0  \n",
      "\n",
      "[2254 rows x 9132 columns]\n"
     ]
    }
   ],
   "source": [
    "message_tfidf_array = tfidf_message_vector.toarray()\n",
    "df_tfidf = pd.DataFrame(data=message_tfidf_array, columns = tfidf_vectorizer.get_feature_names_out())\n",
    "print(df_tfidf)"
   ]
  },
  {
   "cell_type": "code",
   "execution_count": 16,
   "id": "f9c6ffec",
   "metadata": {},
   "outputs": [],
   "source": [
    "df_tfidf.to_csv('df_tfidf.csv', index=False)"
   ]
  }
 ],
 "metadata": {
  "kernelspec": {
   "display_name": "Python 3",
   "language": "python",
   "name": "python3"
  },
  "language_info": {
   "codemirror_mode": {
    "name": "ipython",
    "version": 3
   },
   "file_extension": ".py",
   "mimetype": "text/x-python",
   "name": "python",
   "nbconvert_exporter": "python",
   "pygments_lexer": "ipython3",
   "version": "3.12.6"
  }
 },
 "nbformat": 4,
 "nbformat_minor": 5
}
