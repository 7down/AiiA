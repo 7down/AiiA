{
 "cells": [
  {
   "cell_type": "markdown",
   "id": "e9b6f683-9159-4963-a0c6-6bac5a2ed34d",
   "metadata": {},
   "source": [
    "## Text Representation Techniques"
   ]
  },
  {
   "cell_type": "markdown",
   "id": "de556f16-1986-4462-9416-c67becb56a76",
   "metadata": {},
   "source": [
    "In this notebook, we will explore three text representation techniques used in Natural Language Processing (NLP): Bag of Words (BoW), TF-IDF (Term Frequency-Inverse Document Frequency), and Word Embedding. These methods transform textual data into numerical representations that can be used for machine learning models."
   ]
  },
  {
   "cell_type": "markdown",
   "id": "acd5c58a-b007-4d78-bac9-accd572412a8",
   "metadata": {},
   "source": [
    "### Bag of Words (BoW)"
   ]
  },
  {
   "cell_type": "code",
   "execution_count": 1,
   "id": "1a121c75-2afd-4dbf-a4b8-ed6bbf7dcf2a",
   "metadata": {},
   "outputs": [],
   "source": [
    "import pandas as pd\n",
    "\n",
    "# Load the CSV file into a DataFrame\n",
    "df = pd.read_csv('df.csv')"
   ]
  },
  {
   "cell_type": "code",
   "execution_count": 2,
   "id": "c7359435-f97d-49ec-b418-2852609f98ce",
   "metadata": {},
   "outputs": [],
   "source": [
    "# Import CountVectorizer for converting text data into a bag-of-words representation.\n",
    "from sklearn.feature_extraction.text import CountVectorizer"
   ]
  },
  {
   "cell_type": "code",
   "execution_count": 3,
   "id": "7b2dad61-0cba-4fd1-9f4a-a21ebc713821",
   "metadata": {},
   "outputs": [
    {
     "name": "stdout",
     "output_type": "stream",
     "text": [
      "Feature Names: ['aand' 'abandon' 'abandoning' ... 'zvrzahl' 'zürich' 'ánd']\n",
      "Message Vector Shape: (2254, 11443)\n",
      "Message Vector Array:\n",
      " [[0 0 0 ... 0 0 0]\n",
      " [0 0 0 ... 0 0 0]\n",
      " [0 0 0 ... 0 0 0]\n",
      " ...\n",
      " [0 0 0 ... 0 0 0]\n",
      " [0 0 0 ... 0 0 0]\n",
      " [0 0 0 ... 0 0 0]]\n"
     ]
    }
   ],
   "source": [
    "# Ensure all entries in the 'Content' column are strings.\n",
    "df['Content'] = df['Content'].apply(lambda x: ' '.join(x) if isinstance(x, list) else str(x))\n",
    "\n",
    "# Fill missing values in the 'Content' column with empty strings.\n",
    "df['Content'] = df['Content'].fillna('')\n",
    "\n",
    "# Initialize the CountVectorizer for bag-of-words representation.\n",
    "count_vectorizer = CountVectorizer()\n",
    "\n",
    "# Transform the text in the 'Content' column into a sparse matrix of token counts.\n",
    "message_vector = count_vectorizer.fit_transform(df['Content'])\n",
    "message_vector\n",
    "\n",
    "# Print results for verification.\n",
    "print(\"Feature Names:\", count_vectorizer.get_feature_names_out())  # Vocabulary of the vectorizer.\n",
    "print(\"Message Vector Shape:\", message_vector.shape)  # Shape of the resulting sparse matrix.\n",
    "print(\"Message Vector Array:\\n\", message_vector.toarray())  # Dense array representation of the matrix."
   ]
  },
  {
   "cell_type": "code",
   "execution_count": 4,
   "id": "42f036b2-9ed5-4791-8cc1-044de12ef9a5",
   "metadata": {},
   "outputs": [
    {
     "name": "stdout",
     "output_type": "stream",
     "text": [
      "      aand  abandon  abandoning  abe  aber  abilities  ability  abillity  \\\n",
      "0        0        0           0    0     0          0        0         0   \n",
      "1        0        0           0    0     0          0        0         0   \n",
      "2        0        0           0    0     0          0        0         0   \n",
      "3        0        0           0    0     0          0        0         0   \n",
      "4        0        0           0    0     0          0        0         0   \n",
      "...    ...      ...         ...  ...   ...        ...      ...       ...   \n",
      "2249     0        0           0    0     0          0        0         0   \n",
      "2250     0        0           0    0     0          0        0         0   \n",
      "2251     0        0           0    0     0          0        0         0   \n",
      "2252     0        0           0    0     0          0        0         0   \n",
      "2253     0        0           0    0     0          0        0         0   \n",
      "\n",
      "      abilty  able  ...  youyour  youyours  zealand  zero  zone  zurich  \\\n",
      "0          0     1  ...        0         0        0     0     0       0   \n",
      "1          0     0  ...        0         0        0     0     0       0   \n",
      "2          0     0  ...        0         0        0     0     0       0   \n",
      "3          0     0  ...        0         0        0     0     0       0   \n",
      "4          0     0  ...        0         0        0     0     0       0   \n",
      "...      ...   ...  ...      ...       ...      ...   ...   ...     ...   \n",
      "2249       0     0  ...        0         0        0     0     0       0   \n",
      "2250       0     0  ...        0         0        0     0     0       0   \n",
      "2251       0     0  ...        0         0        0     0     0       0   \n",
      "2252       0     0  ...        0         0        0     0     0       0   \n",
      "2253       0     0  ...        0         0        0     0     0       0   \n",
      "\n",
      "      zurick  zvrzahl  zürich  ánd  \n",
      "0          0        0       0    0  \n",
      "1          0        0       0    0  \n",
      "2          0        0       0    0  \n",
      "3          0        0       0    0  \n",
      "4          0        0       0    0  \n",
      "...      ...      ...     ...  ...  \n",
      "2249       0        0       1    0  \n",
      "2250       0        0       0    0  \n",
      "2251       0        0       0    0  \n",
      "2252       0        0       0    0  \n",
      "2253       0        0       0    0  \n",
      "\n",
      "[2254 rows x 11443 columns]\n"
     ]
    }
   ],
   "source": [
    "# Convert the sparse matrix to a dense array.\n",
    "message_array = message_vector.toarray()\n",
    "\n",
    "# Create a DataFrame from the dense array, using feature names as column headers.\n",
    "df_countvectorizer = pd.DataFrame(data=message_array, columns=count_vectorizer.get_feature_names_out())\n",
    "\n",
    "print(df_countvectorizer)"
   ]
  },
  {
   "cell_type": "code",
   "execution_count": 5,
   "id": "9e39bf3c-b257-47eb-a09b-dc9dfdbe4f84",
   "metadata": {},
   "outputs": [
    {
     "data": {
      "text/plain": [
       "Index(['aand', 'abandon', 'abandoning', 'abe', 'aber', 'abilities', 'ability',\n",
       "       'abillity', 'abilty', 'able',\n",
       "       ...\n",
       "       'youyour', 'youyours', 'zealand', 'zero', 'zone', 'zurich', 'zurick',\n",
       "       'zvrzahl', 'zürich', 'ánd'],\n",
       "      dtype='object', length=11443)"
      ]
     },
     "execution_count": 5,
     "metadata": {},
     "output_type": "execute_result"
    }
   ],
   "source": [
    "# Display the column names of the DataFrame created from the CountVectorizer output.\n",
    "df_countvectorizer.columns"
   ]
  },
  {
   "cell_type": "markdown",
   "id": "01faa5eb-a5f3-4198-b728-72e67769d919",
   "metadata": {},
   "source": [
    "The BoW technique represents text by counting the occurrences of each word in the dataset and creating a sparse matrix where each column corresponds to a unique word and each row represents a negotiation message. In total, there are 11,443 words."
   ]
  },
  {
   "cell_type": "markdown",
   "id": "98725de7-6568-4dc7-9d29-00ade742092c",
   "metadata": {},
   "source": [
    "### Term Frequency-Inverse Document Frequency (TF-IDF)"
   ]
  },
  {
   "cell_type": "code",
   "execution_count": 6,
   "id": "87c29d5f-1577-4c51-9d5e-fd6e8c6531b9",
   "metadata": {},
   "outputs": [],
   "source": [
    "# Import TfidfVectorizer for converting text data into a TF-IDF representation.\n",
    "from sklearn.feature_extraction.text import TfidfVectorizer"
   ]
  },
  {
   "cell_type": "code",
   "execution_count": 7,
   "id": "c739e1e2-7aa0-4e92-a533-a68e8a45eba2",
   "metadata": {},
   "outputs": [],
   "source": [
    "# Ensure all entries in 'Content' are strings.\n",
    "df['Content'] = df['Content'].apply(lambda x: ' '.join(x) if isinstance(x, list) else str(x))\n",
    "\n",
    "# Define a function to remove the first `n` words from a text.\n",
    "def remove_first_words(text, n=3):\n",
    "    words = text.split()  # Split text into words.\n",
    "    return \" \".join(words[n:])  # Join words after skipping the first `n`.\n",
    "\n",
    "# Create a new column with the first 3 words removed from 'Content'.\n",
    "df['Filtered_Content'] = df['Content'].apply(lambda x: remove_first_words(x, n=3))\n",
    "\n",
    "# Initialize the TfidfVectorizer for TF-IDF representation.\n",
    "tfidf_vectorizer = TfidfVectorizer()\n",
    "\n",
    "# Fit the vectorizer and transform the 'Filtered_Content' column into a TF-IDF matrix.\n",
    "tfidf_vectorizer.fit(df['Filtered_Content'])\n",
    "tfidf_message_vector = tfidf_vectorizer.transform(df['Filtered_Content'])"
   ]
  },
  {
   "cell_type": "code",
   "execution_count": 8,
   "id": "0dc251a0-ee07-45a5-a4ab-ed00e569a145",
   "metadata": {},
   "outputs": [
    {
     "data": {
      "text/plain": [
       "(2254, 11299)"
      ]
     },
     "execution_count": 8,
     "metadata": {},
     "output_type": "execute_result"
    }
   ],
   "source": [
    "# Display the shape of the TF-IDF matrix (rows represent number of documents and columns represent number of unique terms).\n",
    "tfidf_message_vector.shape"
   ]
  },
  {
   "cell_type": "code",
   "execution_count": 9,
   "id": "42c4ed40-43a2-41e8-bd2f-d544b2738785",
   "metadata": {},
   "outputs": [
    {
     "name": "stdout",
     "output_type": "stream",
     "text": [
      "      aand  abandon  abandoning  abe  aber  abilities  ability  abillity  \\\n",
      "0      0.0      0.0         0.0  0.0   0.0        0.0      0.0       0.0   \n",
      "1      0.0      0.0         0.0  0.0   0.0        0.0      0.0       0.0   \n",
      "2      0.0      0.0         0.0  0.0   0.0        0.0      0.0       0.0   \n",
      "3      0.0      0.0         0.0  0.0   0.0        0.0      0.0       0.0   \n",
      "4      0.0      0.0         0.0  0.0   0.0        0.0      0.0       0.0   \n",
      "...    ...      ...         ...  ...   ...        ...      ...       ...   \n",
      "2249   0.0      0.0         0.0  0.0   0.0        0.0      0.0       0.0   \n",
      "2250   0.0      0.0         0.0  0.0   0.0        0.0      0.0       0.0   \n",
      "2251   0.0      0.0         0.0  0.0   0.0        0.0      0.0       0.0   \n",
      "2252   0.0      0.0         0.0  0.0   0.0        0.0      0.0       0.0   \n",
      "2253   0.0      0.0         0.0  0.0   0.0        0.0      0.0       0.0   \n",
      "\n",
      "      abilty      able  ...  youyour  youyours  zealand  zero  zone  zurich  \\\n",
      "0        0.0  0.056007  ...      0.0       0.0      0.0   0.0   0.0     0.0   \n",
      "1        0.0  0.000000  ...      0.0       0.0      0.0   0.0   0.0     0.0   \n",
      "2        0.0  0.000000  ...      0.0       0.0      0.0   0.0   0.0     0.0   \n",
      "3        0.0  0.000000  ...      0.0       0.0      0.0   0.0   0.0     0.0   \n",
      "4        0.0  0.000000  ...      0.0       0.0      0.0   0.0   0.0     0.0   \n",
      "...      ...       ...  ...      ...       ...      ...   ...   ...     ...   \n",
      "2249     0.0  0.000000  ...      0.0       0.0      0.0   0.0   0.0     0.0   \n",
      "2250     0.0  0.000000  ...      0.0       0.0      0.0   0.0   0.0     0.0   \n",
      "2251     0.0  0.000000  ...      0.0       0.0      0.0   0.0   0.0     0.0   \n",
      "2252     0.0  0.000000  ...      0.0       0.0      0.0   0.0   0.0     0.0   \n",
      "2253     0.0  0.000000  ...      0.0       0.0      0.0   0.0   0.0     0.0   \n",
      "\n",
      "      zurick  zvrzahl    zürich  ánd  \n",
      "0        0.0      0.0  0.000000  0.0  \n",
      "1        0.0      0.0  0.000000  0.0  \n",
      "2        0.0      0.0  0.000000  0.0  \n",
      "3        0.0      0.0  0.000000  0.0  \n",
      "4        0.0      0.0  0.000000  0.0  \n",
      "...      ...      ...       ...  ...  \n",
      "2249     0.0      0.0  0.136186  0.0  \n",
      "2250     0.0      0.0  0.000000  0.0  \n",
      "2251     0.0      0.0  0.000000  0.0  \n",
      "2252     0.0      0.0  0.000000  0.0  \n",
      "2253     0.0      0.0  0.000000  0.0  \n",
      "\n",
      "[2254 rows x 11299 columns]\n"
     ]
    }
   ],
   "source": [
    "# Convert the TF-IDF sparse matrix to a dense array.\n",
    "message_tfidf_array = tfidf_message_vector.toarray()\n",
    "\n",
    "# Create a DataFrame from the TF-IDF array with feature names as column headers.\n",
    "df_tfidf = pd.DataFrame(data=message_tfidf_array, columns=tfidf_vectorizer.get_feature_names_out())\n",
    "\n",
    "print(df_tfidf)"
   ]
  },
  {
   "cell_type": "code",
   "execution_count": 10,
   "id": "b64072c6-5b8c-4dfd-88a8-22a570c42f6a",
   "metadata": {},
   "outputs": [],
   "source": [
    "# Save the original DataFrame to a CSV file.\n",
    "df.to_csv('df_filtered.csv', index=False)"
   ]
  },
  {
   "cell_type": "code",
   "execution_count": 11,
   "id": "fd5f8481-b502-4090-932b-f657e9d6515b",
   "metadata": {},
   "outputs": [
    {
     "name": "stdout",
     "output_type": "stream",
     "text": [
      "Model Accuracy: 0.7893569844789357\n",
      "\n",
      "Classification Report:\n",
      "               precision    recall  f1-score   support\n",
      "\n",
      "           0       1.00      0.09      0.16       104\n",
      "           1       0.79      1.00      0.88       347\n",
      "\n",
      "    accuracy                           0.79       451\n",
      "   macro avg       0.89      0.54      0.52       451\n",
      "weighted avg       0.83      0.79      0.71       451\n",
      "\n",
      "Top 50 words in order of importance:\n",
      "Word: kramer, Importance: 0.01150\n",
      "Word: folklore, Importance: 0.00998\n",
      "Word: russian, Importance: 0.00822\n",
      "Word: swiss, Importance: 0.00820\n",
      "Word: reject, Importance: 0.00638\n",
      "Word: constance, Importance: 0.00605\n",
      "Word: price, Importance: 0.00527\n",
      "Word: sorry, Importance: 0.00498\n",
      "Word: week, Importance: 0.00448\n",
      "Word: delivery, Importance: 0.00406\n",
      "Word: ltd, Importance: 0.00382\n",
      "Word: already, Importance: 0.00373\n",
      "Word: best, Importance: 0.00365\n",
      "Word: traditional, Importance: 0.00364\n",
      "Word: final, Importance: 0.00360\n",
      "Word: offer, Importance: 0.00359\n",
      "Word: willing, Importance: 0.00358\n",
      "Word: issues, Importance: 0.00347\n",
      "Word: years, Importance: 0.00332\n",
      "Word: parking, Importance: 0.00322\n",
      "Word: opening, Importance: 0.00322\n",
      "Word: regardsalex, Importance: 0.00322\n",
      "Word: chris, Importance: 0.00318\n",
      "Word: meyer, Importance: 0.00315\n",
      "Word: cuisine, Importance: 0.00306\n",
      "Word: corporate, Importance: 0.00306\n",
      "Word: conditions, Importance: 0.00300\n",
      "Word: kim, Importance: 0.00299\n",
      "Word: international, Importance: 0.00298\n",
      "Word: accept, Importance: 0.00293\n",
      "Word: alex, Importance: 0.00288\n",
      "Word: regards, Importance: 0.00287\n",
      "Word: first, Importance: 0.00282\n",
      "Word: sponsorship, Importance: 0.00279\n",
      "Word: vaccine, Importance: 0.00278\n",
      "Word: future, Importance: 0.00272\n",
      "Word: catering, Importance: 0.00264\n",
      "Word: make, Importance: 0.00261\n",
      "Word: students, Importance: 0.00261\n",
      "Word: think, Importance: 0.00254\n",
      "Word: another, Importance: 0.00247\n",
      "Word: music, Importance: 0.00245\n",
      "Word: event, Importance: 0.00244\n",
      "Word: buffet, Importance: 0.00240\n",
      "Word: sponsors, Importance: 0.00239\n",
      "Word: isa, Importance: 0.00238\n",
      "Word: could, Importance: 0.00237\n",
      "Word: also, Importance: 0.00236\n",
      "Word: city, Importance: 0.00235\n",
      "Word: kind, Importance: 0.00234\n"
     ]
    }
   ],
   "source": [
    "from sklearn.feature_extraction.text import TfidfVectorizer\n",
    "import pandas as pd\n",
    "from sklearn.model_selection import train_test_split\n",
    "from sklearn.ensemble import RandomForestClassifier\n",
    "from sklearn.metrics import classification_report, accuracy_score\n",
    "from sklearn.decomposition import PCA\n",
    "\n",
    "# Load the labels from the CSV file.\n",
    "labels = pd.read_csv('df_filtered.csv')  # Assumes 'NegoOutcomeLabel' exists in the file.\n",
    "\n",
    "# Add the target variable to the TF-IDF DataFrame.\n",
    "df_tfidf['NegoOutcomeLabel'] = labels['NegoOutcomeLabel']\n",
    "\n",
    "# Split the data into features (X) and target (y).\n",
    "X = df_tfidf.drop(columns=['NegoOutcomeLabel'])  # Features (TF-IDF matrix).\n",
    "y = df_tfidf['NegoOutcomeLabel']  # Target variable.\n",
    "\n",
    "# Split the data into training and testing sets.\n",
    "X_train, X_test, y_train, y_test = train_test_split(X, y, test_size=0.2, random_state=42)\n",
    "\n",
    "# Optional: Apply PCA to reduce dimensionality (e.g., for model efficiency).\n",
    "pca = PCA(n_components=100)  # Reduce to 100 dimensions.\n",
    "X_train_pca = pca.fit_transform(X_train)\n",
    "X_test_pca = pca.transform(X_test)\n",
    "\n",
    "# Train a RandomForestClassifier on the PCA-transformed data.\n",
    "clf = RandomForestClassifier(random_state=42)\n",
    "clf.fit(X_train_pca, y_train)\n",
    "\n",
    "# Make predictions on the test data.\n",
    "y_pred = clf.predict(X_test_pca)\n",
    "\n",
    "# Evaluate the model.\n",
    "print(\"Model Accuracy:\", accuracy_score(y_test, y_pred))\n",
    "print(\"\\nClassification Report:\\n\", classification_report(y_test, y_pred))\n",
    "\n",
    "# **Feature Analysis Without PCA**\n",
    "# Train the model on the original TF-IDF data.\n",
    "clf_feature_importance = RandomForestClassifier(random_state=42)\n",
    "clf_feature_importance.fit(X_train, y_train)\n",
    "\n",
    "# Extract feature importances and link them with feature names.\n",
    "feature_importances = clf_feature_importance.feature_importances_\n",
    "feature_names = X.columns  # Names of the TF-IDF features.\n",
    "\n",
    "# Combine feature importances with their corresponding terms.\n",
    "important_features = list(zip(feature_importances, feature_names))\n",
    "\n",
    "# Sort features by importance in descending order.\n",
    "important_features_sorted = sorted(important_features, key=lambda x: x[0], reverse=True)\n",
    "\n",
    "# Extract the top 50 most important features.\n",
    "top_50_features = important_features_sorted[:50]\n",
    "\n",
    "# Display the top 50 important words.\n",
    "print(\"Top 50 words in order of importance:\")\n",
    "for importance, term in top_50_features:\n",
    "    print(f\"Word: {term}, Importance: {importance:.5f}\")"
   ]
  },
  {
   "cell_type": "markdown",
   "id": "e632e684-3092-44e4-a3ac-ccfbbf533e09",
   "metadata": {},
   "source": [
    "The TF-IDF (Term Frequency-Inverse Document Frequency) approach was applied to highlight the significance of words relative to their frequency in the dataset. However, the overall feature importance for individual words was generally low. The classification report demonstrated the model's performance using these features, but word-level significance remained limited."
   ]
  },
  {
   "cell_type": "markdown",
   "id": "f46ff486-0bb2-4408-9c43-18a923b3457a",
   "metadata": {},
   "source": [
    "### Word Embedding"
   ]
  },
  {
   "cell_type": "code",
   "execution_count": 12,
   "id": "ff175f3e-bfaa-49d1-aa57-43e5c8d174ba",
   "metadata": {},
   "outputs": [],
   "source": [
    "# Import necessary libraries for Word2Vec and text preprocessing.\n",
    "from gensim.models import Word2Vec\n",
    "from gensim.utils import simple_preprocess  # For preprocessing text into tokens.\n",
    "from nltk.corpus import stopwords  # For accessing stopwords.\n",
    "import nltk  # For additional NLP utilities."
   ]
  },
  {
   "cell_type": "code",
   "execution_count": 13,
   "id": "2a4b6578-799a-4e8a-816f-e0a70979bb65",
   "metadata": {},
   "outputs": [
    {
     "name": "stderr",
     "output_type": "stream",
     "text": [
      "[nltk_data] Downloading package stopwords to\n",
      "[nltk_data]     C:\\Users\\lila9\\AppData\\Roaming\\nltk_data...\n",
      "[nltk_data]   Package stopwords is already up-to-date!\n"
     ]
    }
   ],
   "source": [
    "# Download the NLTK stopwords dataset and create a set of English stopwords for faster lookups.\n",
    "nltk.download('stopwords')\n",
    "stop_words = set(stopwords.words('english'))"
   ]
  },
  {
   "cell_type": "code",
   "execution_count": 14,
   "id": "c3b80684-83f8-4357-b431-9c44cb37e967",
   "metadata": {},
   "outputs": [],
   "source": [
    "# Define a function to preprocess text by tokenizing and removing stopwords.\n",
    "def preprocess_text(text):\n",
    "    tokens = simple_preprocess(text) # Tokenize the text into lowercase words.\n",
    "    return [word for word in tokens if word not in stop_words] # Filter out stopwords from the tokens."
   ]
  },
  {
   "cell_type": "code",
   "execution_count": 15,
   "id": "3d38731b-3e81-4a8e-b807-2cf6d21a3c31",
   "metadata": {},
   "outputs": [],
   "source": [
    "# Load the combined DataFrame from a CSV file.\n",
    "df_combined = pd.read_csv('df_combined.csv')\n",
    "\n",
    "# Extract the 'Content' column as the corpus for processing.\n",
    "corpus = df_combined['Content']\n",
    "\n",
    "# Preprocess each document in the corpus using the preprocess_text function.\n",
    "preprocessed_corpus = [preprocess_text(doc) for doc in corpus]"
   ]
  },
  {
   "cell_type": "code",
   "execution_count": 16,
   "id": "fbf2453e-d277-4f29-a2c6-2e34e83ba8f0",
   "metadata": {},
   "outputs": [],
   "source": [
    "# Train a Word2Vec model on the preprocessed corpus.\n",
    "model = Word2Vec(\n",
    "    sentences=preprocessed_corpus,  # List of preprocessed sentences.\n",
    "    vector_size=100,                # Dimension of the word vectors.\n",
    "    window=5,                       # Context window size.\n",
    "    min_count=2,                    # Minimum frequency for a word to be included.\n",
    "    workers=4,                      # Number of parallel threads for training.\n",
    "    sg=1                            # Use the Skip-gram model (set sg=0 for CBOW).\n",
    ")"
   ]
  },
  {
   "cell_type": "code",
   "execution_count": 17,
   "id": "a15b5c0c-fe60-47ef-ac53-231421ba1d92",
   "metadata": {},
   "outputs": [],
   "source": [
    "# Define the file path to save the trained Word2Vec model.\n",
    "model_path = \"word2vec_model.model\"\n",
    "model.save(model_path)"
   ]
  },
  {
   "cell_type": "code",
   "execution_count": 18,
   "id": "1f4197a1-3062-4a4a-b036-0f0ad6983e5f",
   "metadata": {},
   "outputs": [
    {
     "name": "stdout",
     "output_type": "stream",
     "text": [
      "Vector for 'accept': [-0.07967993  0.41160578 -0.23484215 -0.53441525 -0.06660514 -0.75395006\n",
      "  0.13542433 -0.15091538 -0.00767688 -0.05027903  0.34170392 -0.24476486\n",
      "  0.28204077  0.1930691   0.09906    -0.03842732 -0.12908845 -0.16093223\n",
      " -0.08224271 -0.64958996 -0.1522796   0.415097   -0.09828886  0.01365362\n",
      " -0.2935786   0.1130062  -0.2301662   0.36157182 -0.06432936 -0.29188526\n",
      "  0.41544762  0.21889853  0.3430289  -0.16195373  0.1691695   0.62412965\n",
      "  0.08123938  0.09530976  0.02945412 -0.64871114 -0.08121374  0.04731081\n",
      " -0.13168591 -0.2373681  -0.09241384 -0.24840333 -0.669442    0.20620745\n",
      " -0.07951591  0.02395722 -0.18543005 -0.11042899 -0.14549011  0.23060761\n",
      "  0.02362614  0.5184677  -0.23795554 -0.12097765 -0.19865863  0.1806502\n",
      "  0.01207744  0.06850757  0.03694163  0.4101573   0.1844893   0.3954271\n",
      "  0.20970824  0.12099339 -0.33275652  0.18992278 -0.31470343 -0.24565771\n",
      "  0.3097788   0.2313912  -0.15533319 -0.05978563 -0.33803117 -0.32236895\n",
      " -0.44658732  0.05362417 -0.03911285  0.12661597  0.21055545  0.9483526\n",
      " -0.11431354 -0.10170853 -0.17752597  0.34074783  0.50897205 -0.01951765\n",
      "  0.39259332  0.25229615 -0.19081905 -0.05965152 -0.10978637  0.26324618\n",
      " -0.0700787  -0.06507535 -0.06243777  0.05411028]\n",
      "Words similar to 'accept': [('accepting', 0.7890878319740295), ('conditions', 0.7764095067977905), ('proposed', 0.7736213207244873), ('agree', 0.7648375034332275), ('changed', 0.7549640536308289), ('halfway', 0.753065288066864), ('reject', 0.7529918551445007), ('rethink', 0.7419010400772095), ('condition', 0.7359726428985596), ('proposition', 0.7349504232406616)]\n"
     ]
    }
   ],
   "source": [
    "# Example: Access the vector for a specific word.\n",
    "word = \"accept\"\n",
    "if word in model.wv:  # Check if the word is in the model's vocabulary.\n",
    "    print(f\"Vector for '{word}': {model.wv[word]}\")\n",
    "\n",
    "# Example: Find words similar to the specified word.\n",
    "try:\n",
    "    similar_words = model.wv.most_similar(word, topn=10)  # Retrieve the top 10 similar words.\n",
    "    print(f\"Words similar to '{word}': {similar_words}\")\n",
    "except KeyError:\n",
    "    print(f\"Word '{word}' not in vocabulary.\")  # Handle case where the word is not in the vocabulary."
   ]
  },
  {
   "cell_type": "code",
   "execution_count": 19,
   "id": "60e04f52-2099-40fb-8f55-0e295066d455",
   "metadata": {},
   "outputs": [
    {
     "name": "stdout",
     "output_type": "stream",
     "text": [
      "Vector for 'reject': [-0.03283187  0.08052406 -0.08492011 -0.4091071  -0.12707044 -0.5554152\n",
      " -0.13004953  0.26258197 -0.17448385 -0.21813102 -0.01029205 -0.29472676\n",
      " -0.03094405 -0.16098413  0.13892142  0.00461539  0.04577518 -0.1605903\n",
      " -0.10846187 -0.47841814 -0.08326336  0.302314    0.05257726 -0.08204015\n",
      " -0.22619559  0.08987074 -0.03243003  0.00408209 -0.04164105 -0.1558932\n",
      "  0.23650675  0.07981963  0.02570626 -0.10873747 -0.0163628   0.37052837\n",
      "  0.20433871 -0.08169494 -0.10268217 -0.42030534 -0.07611039 -0.09402256\n",
      " -0.06740569 -0.28638858  0.0301698  -0.05232435 -0.32179552  0.03924014\n",
      " -0.04963385  0.07766195 -0.17007321 -0.14314218 -0.00732379  0.00767465\n",
      "  0.0189331   0.33366445  0.03702857 -0.10430506 -0.03731271  0.15518416\n",
      " -0.09264412 -0.10114246  0.08993816  0.15733916 -0.0136929   0.29052573\n",
      " -0.0100198   0.03493737 -0.1838409   0.12678455 -0.06720378  0.12726171\n",
      "  0.28140905 -0.00610432  0.18273336  0.20288706 -0.05480725 -0.17593966\n",
      " -0.24106959  0.1457058   0.00183363  0.18456866 -0.02494968  0.59942377\n",
      "  0.04022301  0.10871281  0.02683848  0.3891578   0.26998118  0.17329998\n",
      "  0.2781545   0.21410763  0.18948205 -0.03053128  0.0566719   0.182825\n",
      "  0.09978125 -0.25656217  0.18530867 -0.03442379]\n",
      "Words similar to 'reject': [('respond', 0.9192056655883789), ('rejection', 0.9136270880699158), ('explanations', 0.9079517722129822), ('regret', 0.9066969752311707), ('counter', 0.9066307544708252), ('deadline', 0.9043582081794739), ('compromising', 0.9041673541069031), ('explanation', 0.9030728340148926), ('unfortunatelly', 0.9027935862541199), ('sadly', 0.9008121490478516)]\n"
     ]
    }
   ],
   "source": [
    "# Example: Access the vector for the word 'reject'.\n",
    "word = \"reject\"\n",
    "if word in model.wv:  # Check if the word exists in the model's vocabulary.\n",
    "    print(f\"Vector for '{word}': {model.wv[word]}\")\n",
    "\n",
    "# Example: Find words similar to 'reject'.\n",
    "try:\n",
    "    similar_words = model.wv.most_similar(word, topn=10)  # Get the top 10 most similar words.\n",
    "    print(f\"Words similar to '{word}': {similar_words}\")\n",
    "except KeyError:\n",
    "    print(f\"Word '{word}' not in vocabulary.\")  # Handle case where the word is missing from the vocabulary."
   ]
  },
  {
   "cell_type": "markdown",
   "id": "d1c291cd-3ba1-4b44-97b6-f289c7776be1",
   "metadata": {},
   "source": [
    "The Word2Vec model produces high-dimensional vector representations for words, capturing their semantic and syntactic relationships based on the contexts in which they appear in the corpus. Both vectors for \"accept\" and \"reject\" are a 100-dimensional embedding that encode the word's meaning based on its co-occurrence patterns with other words. Each dimension represents a learned feature that contributes to the position of \"accept\" or \"reject\" in the vector space."
   ]
  },
  {
   "cell_type": "code",
   "execution_count": 20,
   "id": "2211c677-8200-495c-9202-3f3d07e01ead",
   "metadata": {},
   "outputs": [
    {
     "name": "stdout",
     "output_type": "stream",
     "text": [
      "   ReceiverID    ActionType  NegoOutcome  \\\n",
      "0          32         Offer  FinalAccept   \n",
      "1          31  Counteroffer  FinalAccept   \n",
      "2          32  Counteroffer  FinalAccept   \n",
      "3          31  Counteroffer  FinalAccept   \n",
      "4          32      Question  FinalAccept   \n",
      "\n",
      "                                             Content  Length  \\\n",
      "0  ['hey', 'chris', 'great', 'working', 'together...    1778   \n",
      "1  ['hey', 'alex', 'pleasure', 'mine', 'starters'...    1949   \n",
      "2  ['hey', 'chris', 'thank', 'response', 'glad', ...     693   \n",
      "3  ['hello', 'alex', 'think', 'solid', 'compromis...     452   \n",
      "4  ['dear', 'chris', 'glad', 'hear', 'willing', '...    1349   \n",
      "\n",
      "   Word count of nego message  NegoOutcomeLabel  \n",
      "0                         309                 1  \n",
      "1                         337                 1  \n",
      "2                         123                 1  \n",
      "3                          77                 1  \n",
      "4                         249                 1  \n",
      "Classification Report:\n",
      "              precision    recall  f1-score   support\n",
      "\n",
      "           0       0.30      0.16      0.21       142\n",
      "           1       0.80      0.90      0.85       535\n",
      "\n",
      "    accuracy                           0.74       677\n",
      "   macro avg       0.55      0.53      0.53       677\n",
      "weighted avg       0.70      0.74      0.71       677\n",
      "\n",
      "Accuracy Score: 0.7444608567208272\n"
     ]
    },
    {
     "data": {
      "image/png": "[encoded data removed]",
      "text/plain": [
       "<Figure size 640x480 with 1 Axes>"
      ]
     },
     "metadata": {},
     "output_type": "display_data"
    },
    {
     "name": "stdout",
     "output_type": "stream",
     "text": [
      "Updated Classification Report:\n",
      "              precision    recall  f1-score   support\n",
      "\n",
      "           0       0.88      0.20      0.33       142\n",
      "           1       0.82      0.99      0.90       535\n",
      "\n",
      "    accuracy                           0.83       677\n",
      "   macro avg       0.85      0.60      0.62       677\n",
      "weighted avg       0.84      0.83      0.78       677\n",
      "\n",
      "Updated Accuracy Score: 0.827178729689808\n"
     ]
    },
    {
     "data": {
      "image/png": "[encoded data removed]",
      "text/plain": [
       "<Figure size 640x480 with 1 Axes>"
      ]
     },
     "metadata": {},
     "output_type": "display_data"
    }
   ],
   "source": [
    "import pandas as pd\n",
    "import numpy as np\n",
    "import matplotlib.pyplot as plt\n",
    "from sklearn.model_selection import train_test_split\n",
    "from sklearn.ensemble import RandomForestClassifier\n",
    "from sklearn.metrics import classification_report, accuracy_score\n",
    "from sklearn.feature_extraction.text import CountVectorizer\n",
    "\n",
    "# Load the CSV data\n",
    "data = pd.read_csv('df.csv')\n",
    "\n",
    "# First look at the data\n",
    "print(data.head())\n",
    "\n",
    "# Calculation of new features\n",
    "# Word count of the message\n",
    "data['Word_Count'] = data['Content'].apply(lambda x: len(str(x).split()))\n",
    "\n",
    "# Character count of the message\n",
    "data['Char_Length'] = data['Content'].apply(lambda x: len(str(x)))\n",
    "\n",
    "# Average word length\n",
    "data['Avg_Word_Length'] = data['Content'].apply(lambda x: np.mean([len(word) for word in str(x).split()]))\n",
    "\n",
    "# Outcome column (target variable)\n",
    "y = data['NegoOutcomeLabel']\n",
    "\n",
    "# Features for the analysis\n",
    "X = data[['Word_Count', 'Char_Length', 'Avg_Word_Length']]\n",
    "\n",
    "# Split data into training and test sets\n",
    "X_train, X_test, y_train, y_test = train_test_split(X, y, test_size=0.3, random_state=42)\n",
    "\n",
    "# Random Forest model to detect relationships\n",
    "rf = RandomForestClassifier(random_state=42)\n",
    "rf.fit(X_train, y_train)\n",
    "\n",
    "# Predictions and evaluation\n",
    "y_pred = rf.predict(X_test)\n",
    "print(\"Classification Report:\")\n",
    "print(classification_report(y_test, y_pred))\n",
    "print(\"Accuracy Score:\", accuracy_score(y_test, y_pred))\n",
    "\n",
    "# Feature Importance\n",
    "importances = rf.feature_importances_\n",
    "features = X.columns\n",
    "plt.bar(features, importances)\n",
    "plt.title('Feature Importances')\n",
    "plt.show()\n",
    "\n",
    "# Analysis of word content with CountVectorizer\n",
    "vectorizer = CountVectorizer(stop_words='english', max_features=50)\n",
    "X_vectorized = vectorizer.fit_transform(data['Content'].fillna('')).toarray()\n",
    "feature_names = vectorizer.get_feature_names_out()\n",
    "\n",
    "# Add the most frequent words as features\n",
    "for idx, word in enumerate(feature_names):\n",
    "    data[word] = X_vectorized[:, idx]\n",
    "\n",
    "# Updated features for the second analysis\n",
    "X_updated = data[['Word_Count', 'Char_Length', 'Avg_Word_Length'] + list(feature_names)]\n",
    "\n",
    "# Split data into training and test sets again\n",
    "X_train_updated, X_test_updated, y_train_updated, y_test_updated = train_test_split(X_updated, y, test_size=0.3, random_state=42)\n",
    "\n",
    "# New model with extended features\n",
    "rf_updated = RandomForestClassifier(random_state=42)\n",
    "rf_updated.fit(X_train_updated, y_train_updated)\n",
    "\n",
    "# New predictions and evaluation\n",
    "y_pred_updated = rf_updated.predict(X_test_updated)\n",
    "print(\"Updated Classification Report:\")\n",
    "print(classification_report(y_test_updated, y_pred_updated))\n",
    "print(\"Updated Accuracy Score:\", accuracy_score(y_test_updated, y_pred_updated))\n",
    "\n",
    "# New feature importance visualization\n",
    "updated_importances = rf_updated.feature_importances_\n",
    "updated_features = X_updated.columns\n",
    "\n",
    "# Display only the top 10 important features\n",
    "sorted_indices = np.argsort(updated_importances)[-10:]\n",
    "plt.bar(np.array(updated_features)[sorted_indices], updated_importances[sorted_indices])\n",
    "plt.title('Top 10 Updated Feature Importances')\n",
    "plt.xticks(rotation=45)\n",
    "plt.show()"
   ]
  },
  {
   "cell_type": "markdown",
   "id": "788c3e2a-ad2b-468a-a771-5033732b4226",
   "metadata": {},
   "source": [
    "At first sight, we thought that the word count, average word length or character length would have an impact on the negotiation result, but we quickly realized, as shown in the graphs, that they are very irrelevant. They do have a greater feature importance than some words, but firstly they are still under 0.1 percent, and secondly the word Russian is just as important, which means they have no significance."
   ]
  }
 ],
 "metadata": {
  "kernelspec": {
   "display_name": "Python 3 (ipykernel)",
   "language": "python",
   "name": "python3"
  },
  "language_info": {
   "codemirror_mode": {
    "name": "ipython",
    "version": 3
   },
   "file_extension": ".py",
   "mimetype": "text/x-python",
   "name": "python",
   "nbconvert_exporter": "python",
   "pygments_lexer": "ipython3",
   "version": "3.12.7"
  }
 },
 "nbformat": 4,
 "nbformat_minor": 5
}
